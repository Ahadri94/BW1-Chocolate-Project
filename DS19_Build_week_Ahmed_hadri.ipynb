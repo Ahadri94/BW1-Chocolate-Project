{
  "nbformat": 4,
  "nbformat_minor": 0,
  "metadata": {
    "colab": {
      "name": "DS19_Build week_Ahmed-hadri.ipynb",
      "provenance": [],
      "authorship_tag": "ABX9TyOupLtSEhiTfBQ3QEfTS0oM",
      "include_colab_link": true
    },
    "kernelspec": {
      "name": "python3",
      "display_name": "Python 3"
    }
  },
  "cells": [
    {
      "cell_type": "markdown",
      "metadata": {
        "id": "view-in-github",
        "colab_type": "text"
      },
      "source": [
        "<a href=\"https://colab.research.google.com/github/Ahadri94/BW1-Chocolate-Project/blob/master/DS19_Build_week_Ahmed_hadri.ipynb\" target=\"_parent\"><img src=\"https://colab.research.google.com/assets/colab-badge.svg\" alt=\"Open In Colab\"/></a>"
      ]
    },
    {
      "cell_type": "markdown",
      "metadata": {
        "id": "mHBqLQ5Ixl-y",
        "colab_type": "text"
      },
      "source": [
        "### Example of concating "
      ]
    },
    {
      "cell_type": "code",
      "metadata": {
        "id": "s8nz1lM5-KjV",
        "colab_type": "code",
        "colab": {}
      },
      "source": [
        "import numpy as np\n",
        "import os\n",
        "import pandas as pd\n",
        "import sys\n",
        "import matplotlib.pyplot as plt\n",
        "import seaborn as sns"
      ],
      "execution_count": 154,
      "outputs": []
    },
    {
      "cell_type": "code",
      "metadata": {
        "id": "FK9kyt3O9Zcg",
        "colab_type": "code",
        "colab": {
          "base_uri": "https://localhost:8080/",
          "height": 238
        },
        "outputId": "18e8431d-a749-4760-f271-921840ea1634"
      },
      "source": [
        "df = pd.read_csv('https://raw.githubusercontent.com/Ahadri94/BW1-Chocolate-Project/master/datasets_1919_3310_flavors_of_cacao.csv')\n",
        "\n",
        "print(df.shape)\n",
        "df.head()"
      ],
      "execution_count": 155,
      "outputs": [
        {
          "output_type": "stream",
          "text": [
            "(1795, 9)\n"
          ],
          "name": "stdout"
        },
        {
          "output_type": "execute_result",
          "data": {
            "text/html": [
              "<div>\n",
              "<style scoped>\n",
              "    .dataframe tbody tr th:only-of-type {\n",
              "        vertical-align: middle;\n",
              "    }\n",
              "\n",
              "    .dataframe tbody tr th {\n",
              "        vertical-align: top;\n",
              "    }\n",
              "\n",
              "    .dataframe thead th {\n",
              "        text-align: right;\n",
              "    }\n",
              "</style>\n",
              "<table border=\"1\" class=\"dataframe\">\n",
              "  <thead>\n",
              "    <tr style=\"text-align: right;\">\n",
              "      <th></th>\n",
              "      <th>Company \\n(Maker-if known)</th>\n",
              "      <th>Specific Bean Origin\\nor Bar Name</th>\n",
              "      <th>REF</th>\n",
              "      <th>Review\\nDate</th>\n",
              "      <th>Cocoa\\nPercent</th>\n",
              "      <th>Company\\nLocation</th>\n",
              "      <th>Rating</th>\n",
              "      <th>Bean\\nType</th>\n",
              "      <th>Broad Bean\\nOrigin</th>\n",
              "    </tr>\n",
              "  </thead>\n",
              "  <tbody>\n",
              "    <tr>\n",
              "      <th>0</th>\n",
              "      <td>A. Morin</td>\n",
              "      <td>Agua Grande</td>\n",
              "      <td>1876</td>\n",
              "      <td>2016</td>\n",
              "      <td>63%</td>\n",
              "      <td>France</td>\n",
              "      <td>3.75</td>\n",
              "      <td></td>\n",
              "      <td>Sao Tome</td>\n",
              "    </tr>\n",
              "    <tr>\n",
              "      <th>1</th>\n",
              "      <td>A. Morin</td>\n",
              "      <td>Kpime</td>\n",
              "      <td>1676</td>\n",
              "      <td>2015</td>\n",
              "      <td>70%</td>\n",
              "      <td>France</td>\n",
              "      <td>2.75</td>\n",
              "      <td></td>\n",
              "      <td>Togo</td>\n",
              "    </tr>\n",
              "    <tr>\n",
              "      <th>2</th>\n",
              "      <td>A. Morin</td>\n",
              "      <td>Atsane</td>\n",
              "      <td>1676</td>\n",
              "      <td>2015</td>\n",
              "      <td>70%</td>\n",
              "      <td>France</td>\n",
              "      <td>3.00</td>\n",
              "      <td></td>\n",
              "      <td>Togo</td>\n",
              "    </tr>\n",
              "    <tr>\n",
              "      <th>3</th>\n",
              "      <td>A. Morin</td>\n",
              "      <td>Akata</td>\n",
              "      <td>1680</td>\n",
              "      <td>2015</td>\n",
              "      <td>70%</td>\n",
              "      <td>France</td>\n",
              "      <td>3.50</td>\n",
              "      <td></td>\n",
              "      <td>Togo</td>\n",
              "    </tr>\n",
              "    <tr>\n",
              "      <th>4</th>\n",
              "      <td>A. Morin</td>\n",
              "      <td>Quilla</td>\n",
              "      <td>1704</td>\n",
              "      <td>2015</td>\n",
              "      <td>70%</td>\n",
              "      <td>France</td>\n",
              "      <td>3.50</td>\n",
              "      <td></td>\n",
              "      <td>Peru</td>\n",
              "    </tr>\n",
              "  </tbody>\n",
              "</table>\n",
              "</div>"
            ],
            "text/plain": [
              "  Company \\n(Maker-if known)  ... Broad Bean\\nOrigin\n",
              "0                   A. Morin  ...           Sao Tome\n",
              "1                   A. Morin  ...               Togo\n",
              "2                   A. Morin  ...               Togo\n",
              "3                   A. Morin  ...               Togo\n",
              "4                   A. Morin  ...               Peru\n",
              "\n",
              "[5 rows x 9 columns]"
            ]
          },
          "metadata": {
            "tags": []
          },
          "execution_count": 155
        }
      ]
    },
    {
      "cell_type": "code",
      "metadata": {
        "id": "iYD0wi5I-H9g",
        "colab_type": "code",
        "colab": {
          "base_uri": "https://localhost:8080/",
          "height": 238
        },
        "outputId": "6e0a519e-e1b5-4bbc-96e9-b8043054b73b"
      },
      "source": [
        "df = pd.read_csv('https://raw.githubusercontent.com/Ahadri94/BW1-Chocolate-Project/master/datasets_1919_3310_flavors_of_cacao.csv', na_values='?')\n",
        "\n",
        "print(df.shape)\n",
        "df.head()"
      ],
      "execution_count": 156,
      "outputs": [
        {
          "output_type": "stream",
          "text": [
            "(1795, 9)\n"
          ],
          "name": "stdout"
        },
        {
          "output_type": "execute_result",
          "data": {
            "text/html": [
              "<div>\n",
              "<style scoped>\n",
              "    .dataframe tbody tr th:only-of-type {\n",
              "        vertical-align: middle;\n",
              "    }\n",
              "\n",
              "    .dataframe tbody tr th {\n",
              "        vertical-align: top;\n",
              "    }\n",
              "\n",
              "    .dataframe thead th {\n",
              "        text-align: right;\n",
              "    }\n",
              "</style>\n",
              "<table border=\"1\" class=\"dataframe\">\n",
              "  <thead>\n",
              "    <tr style=\"text-align: right;\">\n",
              "      <th></th>\n",
              "      <th>Company \\n(Maker-if known)</th>\n",
              "      <th>Specific Bean Origin\\nor Bar Name</th>\n",
              "      <th>REF</th>\n",
              "      <th>Review\\nDate</th>\n",
              "      <th>Cocoa\\nPercent</th>\n",
              "      <th>Company\\nLocation</th>\n",
              "      <th>Rating</th>\n",
              "      <th>Bean\\nType</th>\n",
              "      <th>Broad Bean\\nOrigin</th>\n",
              "    </tr>\n",
              "  </thead>\n",
              "  <tbody>\n",
              "    <tr>\n",
              "      <th>0</th>\n",
              "      <td>A. Morin</td>\n",
              "      <td>Agua Grande</td>\n",
              "      <td>1876</td>\n",
              "      <td>2016</td>\n",
              "      <td>63%</td>\n",
              "      <td>France</td>\n",
              "      <td>3.75</td>\n",
              "      <td></td>\n",
              "      <td>Sao Tome</td>\n",
              "    </tr>\n",
              "    <tr>\n",
              "      <th>1</th>\n",
              "      <td>A. Morin</td>\n",
              "      <td>Kpime</td>\n",
              "      <td>1676</td>\n",
              "      <td>2015</td>\n",
              "      <td>70%</td>\n",
              "      <td>France</td>\n",
              "      <td>2.75</td>\n",
              "      <td></td>\n",
              "      <td>Togo</td>\n",
              "    </tr>\n",
              "    <tr>\n",
              "      <th>2</th>\n",
              "      <td>A. Morin</td>\n",
              "      <td>Atsane</td>\n",
              "      <td>1676</td>\n",
              "      <td>2015</td>\n",
              "      <td>70%</td>\n",
              "      <td>France</td>\n",
              "      <td>3.00</td>\n",
              "      <td></td>\n",
              "      <td>Togo</td>\n",
              "    </tr>\n",
              "    <tr>\n",
              "      <th>3</th>\n",
              "      <td>A. Morin</td>\n",
              "      <td>Akata</td>\n",
              "      <td>1680</td>\n",
              "      <td>2015</td>\n",
              "      <td>70%</td>\n",
              "      <td>France</td>\n",
              "      <td>3.50</td>\n",
              "      <td></td>\n",
              "      <td>Togo</td>\n",
              "    </tr>\n",
              "    <tr>\n",
              "      <th>4</th>\n",
              "      <td>A. Morin</td>\n",
              "      <td>Quilla</td>\n",
              "      <td>1704</td>\n",
              "      <td>2015</td>\n",
              "      <td>70%</td>\n",
              "      <td>France</td>\n",
              "      <td>3.50</td>\n",
              "      <td></td>\n",
              "      <td>Peru</td>\n",
              "    </tr>\n",
              "  </tbody>\n",
              "</table>\n",
              "</div>"
            ],
            "text/plain": [
              "  Company \\n(Maker-if known)  ... Broad Bean\\nOrigin\n",
              "0                   A. Morin  ...           Sao Tome\n",
              "1                   A. Morin  ...               Togo\n",
              "2                   A. Morin  ...               Togo\n",
              "3                   A. Morin  ...               Togo\n",
              "4                   A. Morin  ...               Peru\n",
              "\n",
              "[5 rows x 9 columns]"
            ]
          },
          "metadata": {
            "tags": []
          },
          "execution_count": 156
        }
      ]
    },
    {
      "cell_type": "code",
      "metadata": {
        "id": "LPfrkMVztf6y",
        "colab_type": "code",
        "colab": {
          "base_uri": "https://localhost:8080/",
          "height": 531
        },
        "outputId": "1240bd17-c76e-491d-d9a7-a86651b66ad4"
      },
      "source": [
        "column_headers = ['company', 'bean.bar.orgin', 'ref', 'date', 'percent', \n",
        "                 'location', 'rating', 'beantype', 'origin']\n",
        "\n",
        "df = pd.read_csv('https://raw.githubusercontent.com/Ahadri94/BW1-Chocolate-Project/master/datasets_1919_3310_flavors_of_cacao.csv', names=column_headers,skiprows=1)\n",
        "\n",
        "print(df.shape)\n",
        "df.head(15)"
      ],
      "execution_count": 157,
      "outputs": [
        {
          "output_type": "stream",
          "text": [
            "(1795, 9)\n"
          ],
          "name": "stdout"
        },
        {
          "output_type": "execute_result",
          "data": {
            "text/html": [
              "<div>\n",
              "<style scoped>\n",
              "    .dataframe tbody tr th:only-of-type {\n",
              "        vertical-align: middle;\n",
              "    }\n",
              "\n",
              "    .dataframe tbody tr th {\n",
              "        vertical-align: top;\n",
              "    }\n",
              "\n",
              "    .dataframe thead th {\n",
              "        text-align: right;\n",
              "    }\n",
              "</style>\n",
              "<table border=\"1\" class=\"dataframe\">\n",
              "  <thead>\n",
              "    <tr style=\"text-align: right;\">\n",
              "      <th></th>\n",
              "      <th>company</th>\n",
              "      <th>bean.bar.orgin</th>\n",
              "      <th>ref</th>\n",
              "      <th>date</th>\n",
              "      <th>percent</th>\n",
              "      <th>location</th>\n",
              "      <th>rating</th>\n",
              "      <th>beantype</th>\n",
              "      <th>origin</th>\n",
              "    </tr>\n",
              "  </thead>\n",
              "  <tbody>\n",
              "    <tr>\n",
              "      <th>0</th>\n",
              "      <td>A. Morin</td>\n",
              "      <td>Agua Grande</td>\n",
              "      <td>1876</td>\n",
              "      <td>2016</td>\n",
              "      <td>63%</td>\n",
              "      <td>France</td>\n",
              "      <td>3.75</td>\n",
              "      <td></td>\n",
              "      <td>Sao Tome</td>\n",
              "    </tr>\n",
              "    <tr>\n",
              "      <th>1</th>\n",
              "      <td>A. Morin</td>\n",
              "      <td>Kpime</td>\n",
              "      <td>1676</td>\n",
              "      <td>2015</td>\n",
              "      <td>70%</td>\n",
              "      <td>France</td>\n",
              "      <td>2.75</td>\n",
              "      <td></td>\n",
              "      <td>Togo</td>\n",
              "    </tr>\n",
              "    <tr>\n",
              "      <th>2</th>\n",
              "      <td>A. Morin</td>\n",
              "      <td>Atsane</td>\n",
              "      <td>1676</td>\n",
              "      <td>2015</td>\n",
              "      <td>70%</td>\n",
              "      <td>France</td>\n",
              "      <td>3.00</td>\n",
              "      <td></td>\n",
              "      <td>Togo</td>\n",
              "    </tr>\n",
              "    <tr>\n",
              "      <th>3</th>\n",
              "      <td>A. Morin</td>\n",
              "      <td>Akata</td>\n",
              "      <td>1680</td>\n",
              "      <td>2015</td>\n",
              "      <td>70%</td>\n",
              "      <td>France</td>\n",
              "      <td>3.50</td>\n",
              "      <td></td>\n",
              "      <td>Togo</td>\n",
              "    </tr>\n",
              "    <tr>\n",
              "      <th>4</th>\n",
              "      <td>A. Morin</td>\n",
              "      <td>Quilla</td>\n",
              "      <td>1704</td>\n",
              "      <td>2015</td>\n",
              "      <td>70%</td>\n",
              "      <td>France</td>\n",
              "      <td>3.50</td>\n",
              "      <td></td>\n",
              "      <td>Peru</td>\n",
              "    </tr>\n",
              "    <tr>\n",
              "      <th>5</th>\n",
              "      <td>A. Morin</td>\n",
              "      <td>Carenero</td>\n",
              "      <td>1315</td>\n",
              "      <td>2014</td>\n",
              "      <td>70%</td>\n",
              "      <td>France</td>\n",
              "      <td>2.75</td>\n",
              "      <td>Criollo</td>\n",
              "      <td>Venezuela</td>\n",
              "    </tr>\n",
              "    <tr>\n",
              "      <th>6</th>\n",
              "      <td>A. Morin</td>\n",
              "      <td>Cuba</td>\n",
              "      <td>1315</td>\n",
              "      <td>2014</td>\n",
              "      <td>70%</td>\n",
              "      <td>France</td>\n",
              "      <td>3.50</td>\n",
              "      <td></td>\n",
              "      <td>Cuba</td>\n",
              "    </tr>\n",
              "    <tr>\n",
              "      <th>7</th>\n",
              "      <td>A. Morin</td>\n",
              "      <td>Sur del Lago</td>\n",
              "      <td>1315</td>\n",
              "      <td>2014</td>\n",
              "      <td>70%</td>\n",
              "      <td>France</td>\n",
              "      <td>3.50</td>\n",
              "      <td>Criollo</td>\n",
              "      <td>Venezuela</td>\n",
              "    </tr>\n",
              "    <tr>\n",
              "      <th>8</th>\n",
              "      <td>A. Morin</td>\n",
              "      <td>Puerto Cabello</td>\n",
              "      <td>1319</td>\n",
              "      <td>2014</td>\n",
              "      <td>70%</td>\n",
              "      <td>France</td>\n",
              "      <td>3.75</td>\n",
              "      <td>Criollo</td>\n",
              "      <td>Venezuela</td>\n",
              "    </tr>\n",
              "    <tr>\n",
              "      <th>9</th>\n",
              "      <td>A. Morin</td>\n",
              "      <td>Pablino</td>\n",
              "      <td>1319</td>\n",
              "      <td>2014</td>\n",
              "      <td>70%</td>\n",
              "      <td>France</td>\n",
              "      <td>4.00</td>\n",
              "      <td></td>\n",
              "      <td>Peru</td>\n",
              "    </tr>\n",
              "    <tr>\n",
              "      <th>10</th>\n",
              "      <td>A. Morin</td>\n",
              "      <td>Panama</td>\n",
              "      <td>1011</td>\n",
              "      <td>2013</td>\n",
              "      <td>70%</td>\n",
              "      <td>France</td>\n",
              "      <td>2.75</td>\n",
              "      <td></td>\n",
              "      <td>Panama</td>\n",
              "    </tr>\n",
              "    <tr>\n",
              "      <th>11</th>\n",
              "      <td>A. Morin</td>\n",
              "      <td>Madagascar</td>\n",
              "      <td>1011</td>\n",
              "      <td>2013</td>\n",
              "      <td>70%</td>\n",
              "      <td>France</td>\n",
              "      <td>3.00</td>\n",
              "      <td>Criollo</td>\n",
              "      <td>Madagascar</td>\n",
              "    </tr>\n",
              "    <tr>\n",
              "      <th>12</th>\n",
              "      <td>A. Morin</td>\n",
              "      <td>Brazil</td>\n",
              "      <td>1011</td>\n",
              "      <td>2013</td>\n",
              "      <td>70%</td>\n",
              "      <td>France</td>\n",
              "      <td>3.25</td>\n",
              "      <td></td>\n",
              "      <td>Brazil</td>\n",
              "    </tr>\n",
              "    <tr>\n",
              "      <th>13</th>\n",
              "      <td>A. Morin</td>\n",
              "      <td>Equateur</td>\n",
              "      <td>1011</td>\n",
              "      <td>2013</td>\n",
              "      <td>70%</td>\n",
              "      <td>France</td>\n",
              "      <td>3.75</td>\n",
              "      <td></td>\n",
              "      <td>Ecuador</td>\n",
              "    </tr>\n",
              "    <tr>\n",
              "      <th>14</th>\n",
              "      <td>A. Morin</td>\n",
              "      <td>Colombie</td>\n",
              "      <td>1015</td>\n",
              "      <td>2013</td>\n",
              "      <td>70%</td>\n",
              "      <td>France</td>\n",
              "      <td>2.75</td>\n",
              "      <td></td>\n",
              "      <td>Colombia</td>\n",
              "    </tr>\n",
              "  </tbody>\n",
              "</table>\n",
              "</div>"
            ],
            "text/plain": [
              "     company  bean.bar.orgin   ref  date  ... location rating  beantype      origin\n",
              "0   A. Morin     Agua Grande  1876  2016  ...   France   3.75              Sao Tome\n",
              "1   A. Morin           Kpime  1676  2015  ...   France   2.75                  Togo\n",
              "2   A. Morin          Atsane  1676  2015  ...   France   3.00                  Togo\n",
              "3   A. Morin           Akata  1680  2015  ...   France   3.50                  Togo\n",
              "4   A. Morin          Quilla  1704  2015  ...   France   3.50                  Peru\n",
              "5   A. Morin        Carenero  1315  2014  ...   France   2.75   Criollo   Venezuela\n",
              "6   A. Morin            Cuba  1315  2014  ...   France   3.50                  Cuba\n",
              "7   A. Morin    Sur del Lago  1315  2014  ...   France   3.50   Criollo   Venezuela\n",
              "8   A. Morin  Puerto Cabello  1319  2014  ...   France   3.75   Criollo   Venezuela\n",
              "9   A. Morin         Pablino  1319  2014  ...   France   4.00                  Peru\n",
              "10  A. Morin          Panama  1011  2013  ...   France   2.75                Panama\n",
              "11  A. Morin      Madagascar  1011  2013  ...   France   3.00   Criollo  Madagascar\n",
              "12  A. Morin          Brazil  1011  2013  ...   France   3.25                Brazil\n",
              "13  A. Morin        Equateur  1011  2013  ...   France   3.75               Ecuador\n",
              "14  A. Morin        Colombie  1015  2013  ...   France   2.75              Colombia\n",
              "\n",
              "[15 rows x 9 columns]"
            ]
          },
          "metadata": {
            "tags": []
          },
          "execution_count": 157
        }
      ]
    },
    {
      "cell_type": "code",
      "metadata": {
        "id": "xFs4skbYATjv",
        "colab_type": "code",
        "colab": {}
      },
      "source": [
        "df = df.replace({\"?\": np.NaN})"
      ],
      "execution_count": 158,
      "outputs": []
    },
    {
      "cell_type": "code",
      "metadata": {
        "id": "Z-EdiNjx-eZi",
        "colab_type": "code",
        "colab": {
          "base_uri": "https://localhost:8080/",
          "height": 187
        },
        "outputId": "70873bcc-3525-4098-86a6-494335c2a805"
      },
      "source": [
        "df.isnull().sum()"
      ],
      "execution_count": 159,
      "outputs": [
        {
          "output_type": "execute_result",
          "data": {
            "text/plain": [
              "company           0\n",
              "bean.bar.orgin    0\n",
              "ref               0\n",
              "date              0\n",
              "percent           0\n",
              "location          0\n",
              "rating            0\n",
              "beantype          1\n",
              "origin            1\n",
              "dtype: int64"
            ]
          },
          "metadata": {
            "tags": []
          },
          "execution_count": 159
        }
      ]
    },
    {
      "cell_type": "code",
      "metadata": {
        "id": "OrowvOe3eavG",
        "colab_type": "code",
        "colab": {
          "base_uri": "https://localhost:8080/",
          "height": 187
        },
        "outputId": "ec681ef4-04b2-47f9-a46d-bcd029a760da"
      },
      "source": [
        "df.dtypes\n"
      ],
      "execution_count": 160,
      "outputs": [
        {
          "output_type": "execute_result",
          "data": {
            "text/plain": [
              "company            object\n",
              "bean.bar.orgin     object\n",
              "ref                 int64\n",
              "date                int64\n",
              "percent            object\n",
              "location           object\n",
              "rating            float64\n",
              "beantype           object\n",
              "origin             object\n",
              "dtype: object"
            ]
          },
          "metadata": {
            "tags": []
          },
          "execution_count": 160
        }
      ]
    },
    {
      "cell_type": "code",
      "metadata": {
        "id": "CciONinLATmc",
        "colab_type": "code",
        "colab": {
          "base_uri": "https://localhost:8080/",
          "height": 297
        },
        "outputId": "8a5b74f5-6f00-469b-9ec7-d83e01e705f9"
      },
      "source": [
        "df.describe()"
      ],
      "execution_count": 161,
      "outputs": [
        {
          "output_type": "execute_result",
          "data": {
            "text/html": [
              "<div>\n",
              "<style scoped>\n",
              "    .dataframe tbody tr th:only-of-type {\n",
              "        vertical-align: middle;\n",
              "    }\n",
              "\n",
              "    .dataframe tbody tr th {\n",
              "        vertical-align: top;\n",
              "    }\n",
              "\n",
              "    .dataframe thead th {\n",
              "        text-align: right;\n",
              "    }\n",
              "</style>\n",
              "<table border=\"1\" class=\"dataframe\">\n",
              "  <thead>\n",
              "    <tr style=\"text-align: right;\">\n",
              "      <th></th>\n",
              "      <th>ref</th>\n",
              "      <th>date</th>\n",
              "      <th>rating</th>\n",
              "    </tr>\n",
              "  </thead>\n",
              "  <tbody>\n",
              "    <tr>\n",
              "      <th>count</th>\n",
              "      <td>1795.000000</td>\n",
              "      <td>1795.000000</td>\n",
              "      <td>1795.000000</td>\n",
              "    </tr>\n",
              "    <tr>\n",
              "      <th>mean</th>\n",
              "      <td>1035.904735</td>\n",
              "      <td>2012.325348</td>\n",
              "      <td>3.185933</td>\n",
              "    </tr>\n",
              "    <tr>\n",
              "      <th>std</th>\n",
              "      <td>552.886365</td>\n",
              "      <td>2.927210</td>\n",
              "      <td>0.478062</td>\n",
              "    </tr>\n",
              "    <tr>\n",
              "      <th>min</th>\n",
              "      <td>5.000000</td>\n",
              "      <td>2006.000000</td>\n",
              "      <td>1.000000</td>\n",
              "    </tr>\n",
              "    <tr>\n",
              "      <th>25%</th>\n",
              "      <td>576.000000</td>\n",
              "      <td>2010.000000</td>\n",
              "      <td>2.875000</td>\n",
              "    </tr>\n",
              "    <tr>\n",
              "      <th>50%</th>\n",
              "      <td>1069.000000</td>\n",
              "      <td>2013.000000</td>\n",
              "      <td>3.250000</td>\n",
              "    </tr>\n",
              "    <tr>\n",
              "      <th>75%</th>\n",
              "      <td>1502.000000</td>\n",
              "      <td>2015.000000</td>\n",
              "      <td>3.500000</td>\n",
              "    </tr>\n",
              "    <tr>\n",
              "      <th>max</th>\n",
              "      <td>1952.000000</td>\n",
              "      <td>2017.000000</td>\n",
              "      <td>5.000000</td>\n",
              "    </tr>\n",
              "  </tbody>\n",
              "</table>\n",
              "</div>"
            ],
            "text/plain": [
              "               ref         date       rating\n",
              "count  1795.000000  1795.000000  1795.000000\n",
              "mean   1035.904735  2012.325348     3.185933\n",
              "std     552.886365     2.927210     0.478062\n",
              "min       5.000000  2006.000000     1.000000\n",
              "25%     576.000000  2010.000000     2.875000\n",
              "50%    1069.000000  2013.000000     3.250000\n",
              "75%    1502.000000  2015.000000     3.500000\n",
              "max    1952.000000  2017.000000     5.000000"
            ]
          },
          "metadata": {
            "tags": []
          },
          "execution_count": 161
        }
      ]
    },
    {
      "cell_type": "code",
      "metadata": {
        "id": "aNh134t6wqAZ",
        "colab_type": "code",
        "colab": {
          "base_uri": "https://localhost:8080/",
          "height": 204
        },
        "outputId": "9895b42b-4646-4090-a725-b9363fac9895"
      },
      "source": [
        "df.head()"
      ],
      "execution_count": 162,
      "outputs": [
        {
          "output_type": "execute_result",
          "data": {
            "text/html": [
              "<div>\n",
              "<style scoped>\n",
              "    .dataframe tbody tr th:only-of-type {\n",
              "        vertical-align: middle;\n",
              "    }\n",
              "\n",
              "    .dataframe tbody tr th {\n",
              "        vertical-align: top;\n",
              "    }\n",
              "\n",
              "    .dataframe thead th {\n",
              "        text-align: right;\n",
              "    }\n",
              "</style>\n",
              "<table border=\"1\" class=\"dataframe\">\n",
              "  <thead>\n",
              "    <tr style=\"text-align: right;\">\n",
              "      <th></th>\n",
              "      <th>company</th>\n",
              "      <th>bean.bar.orgin</th>\n",
              "      <th>ref</th>\n",
              "      <th>date</th>\n",
              "      <th>percent</th>\n",
              "      <th>location</th>\n",
              "      <th>rating</th>\n",
              "      <th>beantype</th>\n",
              "      <th>origin</th>\n",
              "    </tr>\n",
              "  </thead>\n",
              "  <tbody>\n",
              "    <tr>\n",
              "      <th>0</th>\n",
              "      <td>A. Morin</td>\n",
              "      <td>Agua Grande</td>\n",
              "      <td>1876</td>\n",
              "      <td>2016</td>\n",
              "      <td>63%</td>\n",
              "      <td>France</td>\n",
              "      <td>3.75</td>\n",
              "      <td></td>\n",
              "      <td>Sao Tome</td>\n",
              "    </tr>\n",
              "    <tr>\n",
              "      <th>1</th>\n",
              "      <td>A. Morin</td>\n",
              "      <td>Kpime</td>\n",
              "      <td>1676</td>\n",
              "      <td>2015</td>\n",
              "      <td>70%</td>\n",
              "      <td>France</td>\n",
              "      <td>2.75</td>\n",
              "      <td></td>\n",
              "      <td>Togo</td>\n",
              "    </tr>\n",
              "    <tr>\n",
              "      <th>2</th>\n",
              "      <td>A. Morin</td>\n",
              "      <td>Atsane</td>\n",
              "      <td>1676</td>\n",
              "      <td>2015</td>\n",
              "      <td>70%</td>\n",
              "      <td>France</td>\n",
              "      <td>3.00</td>\n",
              "      <td></td>\n",
              "      <td>Togo</td>\n",
              "    </tr>\n",
              "    <tr>\n",
              "      <th>3</th>\n",
              "      <td>A. Morin</td>\n",
              "      <td>Akata</td>\n",
              "      <td>1680</td>\n",
              "      <td>2015</td>\n",
              "      <td>70%</td>\n",
              "      <td>France</td>\n",
              "      <td>3.50</td>\n",
              "      <td></td>\n",
              "      <td>Togo</td>\n",
              "    </tr>\n",
              "    <tr>\n",
              "      <th>4</th>\n",
              "      <td>A. Morin</td>\n",
              "      <td>Quilla</td>\n",
              "      <td>1704</td>\n",
              "      <td>2015</td>\n",
              "      <td>70%</td>\n",
              "      <td>France</td>\n",
              "      <td>3.50</td>\n",
              "      <td></td>\n",
              "      <td>Peru</td>\n",
              "    </tr>\n",
              "  </tbody>\n",
              "</table>\n",
              "</div>"
            ],
            "text/plain": [
              "    company bean.bar.orgin   ref  date  ... location rating  beantype    origin\n",
              "0  A. Morin    Agua Grande  1876  2016  ...   France   3.75            Sao Tome\n",
              "1  A. Morin          Kpime  1676  2015  ...   France   2.75                Togo\n",
              "2  A. Morin         Atsane  1676  2015  ...   France   3.00                Togo\n",
              "3  A. Morin          Akata  1680  2015  ...   France   3.50                Togo\n",
              "4  A. Morin         Quilla  1704  2015  ...   France   3.50                Peru\n",
              "\n",
              "[5 rows x 9 columns]"
            ]
          },
          "metadata": {
            "tags": []
          },
          "execution_count": 162
        }
      ]
    },
    {
      "cell_type": "code",
      "metadata": {
        "id": "RlvrBPblevQx",
        "colab_type": "code",
        "colab": {
          "base_uri": "https://localhost:8080/",
          "height": 299
        },
        "outputId": "e4ffa138-30a6-462c-85a6-8381966dc415"
      },
      "source": [
        "sns.distplot(df['ref'])"
      ],
      "execution_count": 163,
      "outputs": [
        {
          "output_type": "execute_result",
          "data": {
            "text/plain": [
              "<matplotlib.axes._subplots.AxesSubplot at 0x7f2895881320>"
            ]
          },
          "metadata": {
            "tags": []
          },
          "execution_count": 163
        },
        {
          "output_type": "display_data",
          "data": {
            "image/png": "[encoded data removed]",
            "text/plain": [
              "<Figure size 432x288 with 1 Axes>"
            ]
          },
          "metadata": {
            "tags": []
          }
        }
      ]
    },
    {
      "cell_type": "code",
      "metadata": {
        "id": "mJiZq-4oe_e9",
        "colab_type": "code",
        "colab": {
          "base_uri": "https://localhost:8080/",
          "height": 299
        },
        "outputId": "f17b5b60-6ee4-41ac-e5a6-b21f624307ba"
      },
      "source": [
        "sns.distplot(df['date'])"
      ],
      "execution_count": 164,
      "outputs": [
        {
          "output_type": "execute_result",
          "data": {
            "text/plain": [
              "<matplotlib.axes._subplots.AxesSubplot at 0x7f289356bf28>"
            ]
          },
          "metadata": {
            "tags": []
          },
          "execution_count": 164
        },
        {
          "output_type": "display_data",
          "data": {
            "image/png": "[encoded data removed]",
            "text/plain": [
              "<Figure size 432x288 with 1 Axes>"
            ]
          },
          "metadata": {
            "tags": []
          }
        }
      ]
    },
    {
      "cell_type": "code",
      "metadata": {
        "id": "T-oCRMh1eA6k",
        "colab_type": "code",
        "colab": {
          "base_uri": "https://localhost:8080/",
          "height": 299
        },
        "outputId": "bc72f52a-461d-422d-efee-958c29114beb"
      },
      "source": [
        "sns.distplot(df['rating'])"
      ],
      "execution_count": 165,
      "outputs": [
        {
          "output_type": "execute_result",
          "data": {
            "text/plain": [
              "<matplotlib.axes._subplots.AxesSubplot at 0x7f28967c4e48>"
            ]
          },
          "metadata": {
            "tags": []
          },
          "execution_count": 165
        },
        {
          "output_type": "display_data",
          "data": {
            "image/png": "[encoded data removed]",
            "text/plain": [
              "<Figure size 432x288 with 1 Axes>"
            ]
          },
          "metadata": {
            "tags": []
          }
        }
      ]
    },
    {
      "cell_type": "code",
      "metadata": {
        "id": "qOAUhRbzeBIT",
        "colab_type": "code",
        "colab": {
          "base_uri": "https://localhost:8080/",
          "height": 282
        },
        "outputId": "22e4dbda-8514-48e1-93f7-5c8ee7036614"
      },
      "source": [
        "var = 'ref'\n",
        "data = pd.concat([df['rating'], df[var]], axis=1)\n",
        "data.plot.scatter(x=var, y='rating');"
      ],
      "execution_count": 166,
      "outputs": [
        {
          "output_type": "display_data",
          "data": {
            "image/png": "[encoded data removed]",
            "text/plain": [
              "<Figure size 432x288 with 1 Axes>"
            ]
          },
          "metadata": {
            "tags": []
          }
        }
      ]
    },
    {
      "cell_type": "code",
      "metadata": {
        "id": "wp-7cbY_eBTM",
        "colab_type": "code",
        "colab": {
          "base_uri": "https://localhost:8080/",
          "height": 282
        },
        "outputId": "9efb40d1-afa0-48dd-acd6-3b9d3f700f36"
      },
      "source": [
        "var = 'date'\n",
        "data = pd.concat([df['rating'], df[var]], axis=1)\n",
        "data.plot.scatter(x=var, y='rating');"
      ],
      "execution_count": 167,
      "outputs": [
        {
          "output_type": "display_data",
          "data": {
            "image/png": "[encoded data removed]",
            "text/plain": [
              "<Figure size 432x288 with 1 Axes>"
            ]
          },
          "metadata": {
            "tags": []
          }
        }
      ]
    },
    {
      "cell_type": "code",
      "metadata": {
        "id": "gVCKTkyCeBfA",
        "colab_type": "code",
        "colab": {
          "base_uri": "https://localhost:8080/",
          "height": 221
        },
        "outputId": "ec9e8a64-417c-49e6-c343-8bfb82fdb93e"
      },
      "source": [
        "df['location'].sort_values().unique()"
      ],
      "execution_count": 168,
      "outputs": [
        {
          "output_type": "execute_result",
          "data": {
            "text/plain": [
              "array(['Amsterdam', 'Argentina', 'Australia', 'Austria', 'Belgium',\n",
              "       'Bolivia', 'Brazil', 'Canada', 'Chile', 'Colombia', 'Costa Rica',\n",
              "       'Czech Republic', 'Denmark', 'Domincan Republic', 'Ecuador',\n",
              "       'Eucador', 'Fiji', 'Finland', 'France', 'Germany', 'Ghana',\n",
              "       'Grenada', 'Guatemala', 'Honduras', 'Hungary', 'Iceland', 'India',\n",
              "       'Ireland', 'Israel', 'Italy', 'Japan', 'Lithuania', 'Madagascar',\n",
              "       'Martinique', 'Mexico', 'Netherlands', 'New Zealand', 'Niacragua',\n",
              "       'Nicaragua', 'Peru', 'Philippines', 'Poland', 'Portugal',\n",
              "       'Puerto Rico', 'Russia', 'Sao Tome', 'Scotland', 'Singapore',\n",
              "       'South Africa', 'South Korea', 'Spain', 'St. Lucia', 'Suriname',\n",
              "       'Sweden', 'Switzerland', 'U.K.', 'U.S.A.', 'Venezuela', 'Vietnam',\n",
              "       'Wales'], dtype=object)"
            ]
          },
          "metadata": {
            "tags": []
          },
          "execution_count": 168
        }
      ]
    },
    {
      "cell_type": "code",
      "metadata": {
        "id": "5miBGvJPeBay",
        "colab_type": "code",
        "colab": {
          "base_uri": "https://localhost:8080/",
          "height": 334
        },
        "outputId": "c95a570d-f439-4a5f-af07-8e6d5b4f734c"
      },
      "source": [
        "df['location'].value_counts().head(10).plot.bar()\n"
      ],
      "execution_count": 169,
      "outputs": [
        {
          "output_type": "execute_result",
          "data": {
            "text/plain": [
              "<matplotlib.axes._subplots.AxesSubplot at 0x7f2893f02518>"
            ]
          },
          "metadata": {
            "tags": []
          },
          "execution_count": 169
        },
        {
          "output_type": "display_data",
          "data": {
            "image/png": "[encoded data removed]",
            "text/plain": [
              "<Figure size 432x288 with 1 Axes>"
            ]
          },
          "metadata": {
            "tags": []
          }
        }
      ]
    },
    {
      "cell_type": "code",
      "metadata": {
        "id": "CrIgNzLDeBP_",
        "colab_type": "code",
        "colab": {
          "base_uri": "https://localhost:8080/",
          "height": 799
        },
        "outputId": "d4f5996e-94bd-4282-b73f-d85746168a4e"
      },
      "source": [
        "df['percent'].value_counts()"
      ],
      "execution_count": 170,
      "outputs": [
        {
          "output_type": "execute_result",
          "data": {
            "text/plain": [
              "70%      672\n",
              "75%      222\n",
              "72%      189\n",
              "65%       78\n",
              "80%       72\n",
              "74%       50\n",
              "68%       47\n",
              "60%       43\n",
              "73%       40\n",
              "85%       36\n",
              "64%       34\n",
              "77%       33\n",
              "71%       31\n",
              "67%       27\n",
              "76%       23\n",
              "66%       23\n",
              "100%      20\n",
              "78%       17\n",
              "82%       17\n",
              "55%       16\n",
              "62%       14\n",
              "63%       12\n",
              "69%       10\n",
              "90%        8\n",
              "58%        8\n",
              "88%        8\n",
              "61%        8\n",
              "81%        5\n",
              "84%        4\n",
              "72.5%      4\n",
              "83%        4\n",
              "91%        3\n",
              "99%        2\n",
              "56%        2\n",
              "73.5%      2\n",
              "89%        2\n",
              "79%        1\n",
              "50%        1\n",
              "46%        1\n",
              "57%        1\n",
              "87%        1\n",
              "60.5%      1\n",
              "86%        1\n",
              "42%        1\n",
              "53%        1\n",
              "Name: percent, dtype: int64"
            ]
          },
          "metadata": {
            "tags": []
          },
          "execution_count": 170
        }
      ]
    },
    {
      "cell_type": "code",
      "metadata": {
        "id": "IF29jMxKeBC9",
        "colab_type": "code",
        "colab": {
          "base_uri": "https://localhost:8080/",
          "height": 297
        },
        "outputId": "834076ed-bcb7-4739-e944-8bc0b8500db5"
      },
      "source": [
        "df['percent'].value_counts().head(10).plot.bar()"
      ],
      "execution_count": 171,
      "outputs": [
        {
          "output_type": "execute_result",
          "data": {
            "text/plain": [
              "<matplotlib.axes._subplots.AxesSubplot at 0x7f28a0160c50>"
            ]
          },
          "metadata": {
            "tags": []
          },
          "execution_count": 171
        },
        {
          "output_type": "display_data",
          "data": {
            "image/png": "[encoded data removed]",
            "text/plain": [
              "<Figure size 432x288 with 1 Axes>"
            ]
          },
          "metadata": {
            "tags": []
          }
        }
      ]
    },
    {
      "cell_type": "code",
      "metadata": {
        "id": "PhxhdBj31Oxv",
        "colab_type": "code",
        "colab": {
          "base_uri": "https://localhost:8080/",
          "height": 669
        },
        "outputId": "9a60c17e-3b67-4cea-abbf-def909cdc9ca"
      },
      "source": [
        "df[df['percent'] == '100%']"
      ],
      "execution_count": 172,
      "outputs": [
        {
          "output_type": "execute_result",
          "data": {
            "text/html": [
              "<div>\n",
              "<style scoped>\n",
              "    .dataframe tbody tr th:only-of-type {\n",
              "        vertical-align: middle;\n",
              "    }\n",
              "\n",
              "    .dataframe tbody tr th {\n",
              "        vertical-align: top;\n",
              "    }\n",
              "\n",
              "    .dataframe thead th {\n",
              "        text-align: right;\n",
              "    }\n",
              "</style>\n",
              "<table border=\"1\" class=\"dataframe\">\n",
              "  <thead>\n",
              "    <tr style=\"text-align: right;\">\n",
              "      <th></th>\n",
              "      <th>company</th>\n",
              "      <th>bean.bar.orgin</th>\n",
              "      <th>ref</th>\n",
              "      <th>date</th>\n",
              "      <th>percent</th>\n",
              "      <th>location</th>\n",
              "      <th>rating</th>\n",
              "      <th>beantype</th>\n",
              "      <th>origin</th>\n",
              "    </tr>\n",
              "  </thead>\n",
              "  <tbody>\n",
              "    <tr>\n",
              "      <th>125</th>\n",
              "      <td>Artisan du Chocolat</td>\n",
              "      <td>Venezuela</td>\n",
              "      <td>486</td>\n",
              "      <td>2010</td>\n",
              "      <td>100%</td>\n",
              "      <td>U.K.</td>\n",
              "      <td>1.75</td>\n",
              "      <td></td>\n",
              "      <td>Venezuela</td>\n",
              "    </tr>\n",
              "    <tr>\n",
              "      <th>245</th>\n",
              "      <td>Bonnat</td>\n",
              "      <td>One Hundred</td>\n",
              "      <td>81</td>\n",
              "      <td>2006</td>\n",
              "      <td>100%</td>\n",
              "      <td>France</td>\n",
              "      <td>1.50</td>\n",
              "      <td></td>\n",
              "      <td></td>\n",
              "    </tr>\n",
              "    <tr>\n",
              "      <th>249</th>\n",
              "      <td>Bouga Cacao (Tulicorp)</td>\n",
              "      <td>El Oro, Hacienda de Oro</td>\n",
              "      <td>341</td>\n",
              "      <td>2009</td>\n",
              "      <td>100%</td>\n",
              "      <td>Ecuador</td>\n",
              "      <td>1.50</td>\n",
              "      <td>Forastero (Arriba)</td>\n",
              "      <td>Ecuador</td>\n",
              "    </tr>\n",
              "    <tr>\n",
              "      <th>330</th>\n",
              "      <td>C-Amaro</td>\n",
              "      <td>Ecuador</td>\n",
              "      <td>1185</td>\n",
              "      <td>2013</td>\n",
              "      <td>100%</td>\n",
              "      <td>Italy</td>\n",
              "      <td>3.50</td>\n",
              "      <td></td>\n",
              "      <td>Ecuador</td>\n",
              "    </tr>\n",
              "    <tr>\n",
              "      <th>437</th>\n",
              "      <td>Claudio Corallo</td>\n",
              "      <td>Principe</td>\n",
              "      <td>252</td>\n",
              "      <td>2008</td>\n",
              "      <td>100%</td>\n",
              "      <td>Sao Tome</td>\n",
              "      <td>1.00</td>\n",
              "      <td>Forastero</td>\n",
              "      <td>Sao Tome &amp; Principe</td>\n",
              "    </tr>\n",
              "    <tr>\n",
              "      <th>449</th>\n",
              "      <td>Coppeneur</td>\n",
              "      <td>Ecuador Puristique</td>\n",
              "      <td>817</td>\n",
              "      <td>2012</td>\n",
              "      <td>100%</td>\n",
              "      <td>Germany</td>\n",
              "      <td>1.50</td>\n",
              "      <td></td>\n",
              "      <td>Ecuador</td>\n",
              "    </tr>\n",
              "    <tr>\n",
              "      <th>557</th>\n",
              "      <td>Domori</td>\n",
              "      <td>IL100, H. San Jose</td>\n",
              "      <td>1109</td>\n",
              "      <td>2013</td>\n",
              "      <td>100%</td>\n",
              "      <td>Italy</td>\n",
              "      <td>3.00</td>\n",
              "      <td>Criollo</td>\n",
              "      <td>Venezuela</td>\n",
              "    </tr>\n",
              "    <tr>\n",
              "      <th>779</th>\n",
              "      <td>Habitual</td>\n",
              "      <td>one hundred</td>\n",
              "      <td>1205</td>\n",
              "      <td>2014</td>\n",
              "      <td>100%</td>\n",
              "      <td>Canada</td>\n",
              "      <td>2.00</td>\n",
              "      <td></td>\n",
              "      <td></td>\n",
              "    </tr>\n",
              "    <tr>\n",
              "      <th>828</th>\n",
              "      <td>Hotel Chocolat</td>\n",
              "      <td>Island Growers, 2012, 120hr c.</td>\n",
              "      <td>1113</td>\n",
              "      <td>2013</td>\n",
              "      <td>100%</td>\n",
              "      <td>U.K.</td>\n",
              "      <td>1.75</td>\n",
              "      <td>Trinitario</td>\n",
              "      <td>St. Lucia</td>\n",
              "    </tr>\n",
              "    <tr>\n",
              "      <th>834</th>\n",
              "      <td>Hotel Chocolat (Coppeneur)</td>\n",
              "      <td>Chanchamayo, Pichanadi, 2012, 60hr c.</td>\n",
              "      <td>1109</td>\n",
              "      <td>2013</td>\n",
              "      <td>100%</td>\n",
              "      <td>U.K.</td>\n",
              "      <td>2.75</td>\n",
              "      <td></td>\n",
              "      <td>Peru</td>\n",
              "    </tr>\n",
              "    <tr>\n",
              "      <th>835</th>\n",
              "      <td>Hotel Chocolat (Coppeneur)</td>\n",
              "      <td>Los Rios, H. Iara, 2012, 120hr c.</td>\n",
              "      <td>1113</td>\n",
              "      <td>2013</td>\n",
              "      <td>100%</td>\n",
              "      <td>U.K.</td>\n",
              "      <td>2.50</td>\n",
              "      <td>Forastero (Nacional)</td>\n",
              "      <td>Ecuador</td>\n",
              "    </tr>\n",
              "    <tr>\n",
              "      <th>836</th>\n",
              "      <td>Hotel Chocolat (Coppeneur)</td>\n",
              "      <td>Conacado, 2012, 120hr c.</td>\n",
              "      <td>1113</td>\n",
              "      <td>2013</td>\n",
              "      <td>100%</td>\n",
              "      <td>U.K.</td>\n",
              "      <td>2.75</td>\n",
              "      <td></td>\n",
              "      <td>Dominican Republic</td>\n",
              "    </tr>\n",
              "    <tr>\n",
              "      <th>1204</th>\n",
              "      <td>Ocho</td>\n",
              "      <td>Sang Yum Coop</td>\n",
              "      <td>1760</td>\n",
              "      <td>2016</td>\n",
              "      <td>100%</td>\n",
              "      <td>New Zealand</td>\n",
              "      <td>2.75</td>\n",
              "      <td></td>\n",
              "      <td>Samoa</td>\n",
              "    </tr>\n",
              "    <tr>\n",
              "      <th>1251</th>\n",
              "      <td>Pacari</td>\n",
              "      <td>Raw</td>\n",
              "      <td>266</td>\n",
              "      <td>2008</td>\n",
              "      <td>100%</td>\n",
              "      <td>Ecuador</td>\n",
              "      <td>2.00</td>\n",
              "      <td>Forastero (Arriba)</td>\n",
              "      <td>Ecuador</td>\n",
              "    </tr>\n",
              "    <tr>\n",
              "      <th>1319</th>\n",
              "      <td>Pralus</td>\n",
              "      <td>Sambirano Valley, Le 100%</td>\n",
              "      <td>202</td>\n",
              "      <td>2008</td>\n",
              "      <td>100%</td>\n",
              "      <td>France</td>\n",
              "      <td>3.00</td>\n",
              "      <td>Criollo</td>\n",
              "      <td>Madagascar</td>\n",
              "    </tr>\n",
              "    <tr>\n",
              "      <th>1411</th>\n",
              "      <td>S.A.I.D.</td>\n",
              "      <td>100 percent</td>\n",
              "      <td>615</td>\n",
              "      <td>2010</td>\n",
              "      <td>100%</td>\n",
              "      <td>Italy</td>\n",
              "      <td>1.50</td>\n",
              "      <td></td>\n",
              "      <td></td>\n",
              "    </tr>\n",
              "    <tr>\n",
              "      <th>1466</th>\n",
              "      <td>Sirene</td>\n",
              "      <td>Somia Plantation, 2012</td>\n",
              "      <td>1502</td>\n",
              "      <td>2015</td>\n",
              "      <td>100%</td>\n",
              "      <td>Canada</td>\n",
              "      <td>3.00</td>\n",
              "      <td>Trinitario</td>\n",
              "      <td>Madagascar</td>\n",
              "    </tr>\n",
              "    <tr>\n",
              "      <th>1467</th>\n",
              "      <td>Sirene</td>\n",
              "      <td>Camino Verde P., Balao, Guayas, 2012</td>\n",
              "      <td>1506</td>\n",
              "      <td>2015</td>\n",
              "      <td>100%</td>\n",
              "      <td>Canada</td>\n",
              "      <td>3.00</td>\n",
              "      <td></td>\n",
              "      <td>Ecuador</td>\n",
              "    </tr>\n",
              "    <tr>\n",
              "      <th>1720</th>\n",
              "      <td>Vintage Plantations (Tulicorp)</td>\n",
              "      <td>Los Rios, Rancho Grande 2004/2007</td>\n",
              "      <td>153</td>\n",
              "      <td>2007</td>\n",
              "      <td>100%</td>\n",
              "      <td>U.S.A.</td>\n",
              "      <td>2.00</td>\n",
              "      <td>Forastero (Arriba)</td>\n",
              "      <td>Ecuador</td>\n",
              "    </tr>\n",
              "    <tr>\n",
              "      <th>1741</th>\n",
              "      <td>Willie's Cacao</td>\n",
              "      <td>Java, Indonesian Black</td>\n",
              "      <td>1109</td>\n",
              "      <td>2013</td>\n",
              "      <td>100%</td>\n",
              "      <td>U.K.</td>\n",
              "      <td>2.25</td>\n",
              "      <td></td>\n",
              "      <td>Indonesia</td>\n",
              "    </tr>\n",
              "  </tbody>\n",
              "</table>\n",
              "</div>"
            ],
            "text/plain": [
              "                             company  ...               origin\n",
              "125              Artisan du Chocolat  ...            Venezuela\n",
              "245                           Bonnat  ...                     \n",
              "249           Bouga Cacao (Tulicorp)  ...              Ecuador\n",
              "330                          C-Amaro  ...              Ecuador\n",
              "437                  Claudio Corallo  ...  Sao Tome & Principe\n",
              "449                        Coppeneur  ...              Ecuador\n",
              "557                           Domori  ...            Venezuela\n",
              "779                         Habitual  ...                     \n",
              "828                   Hotel Chocolat  ...            St. Lucia\n",
              "834       Hotel Chocolat (Coppeneur)  ...                 Peru\n",
              "835       Hotel Chocolat (Coppeneur)  ...              Ecuador\n",
              "836       Hotel Chocolat (Coppeneur)  ...   Dominican Republic\n",
              "1204                            Ocho  ...                Samoa\n",
              "1251                          Pacari  ...              Ecuador\n",
              "1319                          Pralus  ...           Madagascar\n",
              "1411                        S.A.I.D.  ...                     \n",
              "1466                          Sirene  ...           Madagascar\n",
              "1467                          Sirene  ...              Ecuador\n",
              "1720  Vintage Plantations (Tulicorp)  ...              Ecuador\n",
              "1741                  Willie's Cacao  ...            Indonesia\n",
              "\n",
              "[20 rows x 9 columns]"
            ]
          },
          "metadata": {
            "tags": []
          },
          "execution_count": 172
        }
      ]
    },
    {
      "cell_type": "code",
      "metadata": {
        "id": "w-bOjbaF1Tdp",
        "colab_type": "code",
        "colab": {
          "base_uri": "https://localhost:8080/",
          "height": 295
        },
        "outputId": "c027ce9f-db27-45b4-802f-9bffc663d0a2"
      },
      "source": [
        "df['rating'].value_counts().sort_index().plot.bar()"
      ],
      "execution_count": 173,
      "outputs": [
        {
          "output_type": "execute_result",
          "data": {
            "text/plain": [
              "<matplotlib.axes._subplots.AxesSubplot at 0x7f289fa6da90>"
            ]
          },
          "metadata": {
            "tags": []
          },
          "execution_count": 173
        },
        {
          "output_type": "display_data",
          "data": {
            "image/png": "[encoded data removed]",
            "text/plain": [
              "<Figure size 432x288 with 1 Axes>"
            ]
          },
          "metadata": {
            "tags": []
          }
        }
      ]
    },
    {
      "cell_type": "code",
      "metadata": {
        "id": "ljAqkNWhB_y6",
        "colab_type": "code",
        "colab": {}
      },
      "source": [
        "sns.catplot(x='location', y='date', col='rating', kind='bar', data=df, height=4);"
      ],
      "execution_count": null,
      "outputs": []
    },
    {
      "cell_type": "code",
      "metadata": {
        "id": "wYkIghaFjDUx",
        "colab_type": "code",
        "colab": {
          "base_uri": "https://localhost:8080/",
          "height": 170
        },
        "outputId": "01d51ae6-4813-4d72-d018-e02892a0b5e3"
      },
      "source": [
        "df.columns.to_list()"
      ],
      "execution_count": 175,
      "outputs": [
        {
          "output_type": "execute_result",
          "data": {
            "text/plain": [
              "['company',\n",
              " 'bean.bar.orgin',\n",
              " 'ref',\n",
              " 'date',\n",
              " 'percent',\n",
              " 'location',\n",
              " 'rating',\n",
              " 'beantype',\n",
              " 'origin']"
            ]
          },
          "metadata": {
            "tags": []
          },
          "execution_count": 175
        }
      ]
    },
    {
      "cell_type": "code",
      "metadata": {
        "id": "9rfckp05iW66",
        "colab_type": "code",
        "colab": {
          "base_uri": "https://localhost:8080/",
          "height": 514
        },
        "outputId": "b0e8c051-beac-4e0b-a7c8-22d10d60d2bb"
      },
      "source": [
        "df.head(15)"
      ],
      "execution_count": 176,
      "outputs": [
        {
          "output_type": "execute_result",
          "data": {
            "text/html": [
              "<div>\n",
              "<style scoped>\n",
              "    .dataframe tbody tr th:only-of-type {\n",
              "        vertical-align: middle;\n",
              "    }\n",
              "\n",
              "    .dataframe tbody tr th {\n",
              "        vertical-align: top;\n",
              "    }\n",
              "\n",
              "    .dataframe thead th {\n",
              "        text-align: right;\n",
              "    }\n",
              "</style>\n",
              "<table border=\"1\" class=\"dataframe\">\n",
              "  <thead>\n",
              "    <tr style=\"text-align: right;\">\n",
              "      <th></th>\n",
              "      <th>company</th>\n",
              "      <th>bean.bar.orgin</th>\n",
              "      <th>ref</th>\n",
              "      <th>date</th>\n",
              "      <th>percent</th>\n",
              "      <th>location</th>\n",
              "      <th>rating</th>\n",
              "      <th>beantype</th>\n",
              "      <th>origin</th>\n",
              "    </tr>\n",
              "  </thead>\n",
              "  <tbody>\n",
              "    <tr>\n",
              "      <th>0</th>\n",
              "      <td>A. Morin</td>\n",
              "      <td>Agua Grande</td>\n",
              "      <td>1876</td>\n",
              "      <td>2016</td>\n",
              "      <td>63%</td>\n",
              "      <td>France</td>\n",
              "      <td>3.75</td>\n",
              "      <td></td>\n",
              "      <td>Sao Tome</td>\n",
              "    </tr>\n",
              "    <tr>\n",
              "      <th>1</th>\n",
              "      <td>A. Morin</td>\n",
              "      <td>Kpime</td>\n",
              "      <td>1676</td>\n",
              "      <td>2015</td>\n",
              "      <td>70%</td>\n",
              "      <td>France</td>\n",
              "      <td>2.75</td>\n",
              "      <td></td>\n",
              "      <td>Togo</td>\n",
              "    </tr>\n",
              "    <tr>\n",
              "      <th>2</th>\n",
              "      <td>A. Morin</td>\n",
              "      <td>Atsane</td>\n",
              "      <td>1676</td>\n",
              "      <td>2015</td>\n",
              "      <td>70%</td>\n",
              "      <td>France</td>\n",
              "      <td>3.00</td>\n",
              "      <td></td>\n",
              "      <td>Togo</td>\n",
              "    </tr>\n",
              "    <tr>\n",
              "      <th>3</th>\n",
              "      <td>A. Morin</td>\n",
              "      <td>Akata</td>\n",
              "      <td>1680</td>\n",
              "      <td>2015</td>\n",
              "      <td>70%</td>\n",
              "      <td>France</td>\n",
              "      <td>3.50</td>\n",
              "      <td></td>\n",
              "      <td>Togo</td>\n",
              "    </tr>\n",
              "    <tr>\n",
              "      <th>4</th>\n",
              "      <td>A. Morin</td>\n",
              "      <td>Quilla</td>\n",
              "      <td>1704</td>\n",
              "      <td>2015</td>\n",
              "      <td>70%</td>\n",
              "      <td>France</td>\n",
              "      <td>3.50</td>\n",
              "      <td></td>\n",
              "      <td>Peru</td>\n",
              "    </tr>\n",
              "    <tr>\n",
              "      <th>5</th>\n",
              "      <td>A. Morin</td>\n",
              "      <td>Carenero</td>\n",
              "      <td>1315</td>\n",
              "      <td>2014</td>\n",
              "      <td>70%</td>\n",
              "      <td>France</td>\n",
              "      <td>2.75</td>\n",
              "      <td>Criollo</td>\n",
              "      <td>Venezuela</td>\n",
              "    </tr>\n",
              "    <tr>\n",
              "      <th>6</th>\n",
              "      <td>A. Morin</td>\n",
              "      <td>Cuba</td>\n",
              "      <td>1315</td>\n",
              "      <td>2014</td>\n",
              "      <td>70%</td>\n",
              "      <td>France</td>\n",
              "      <td>3.50</td>\n",
              "      <td></td>\n",
              "      <td>Cuba</td>\n",
              "    </tr>\n",
              "    <tr>\n",
              "      <th>7</th>\n",
              "      <td>A. Morin</td>\n",
              "      <td>Sur del Lago</td>\n",
              "      <td>1315</td>\n",
              "      <td>2014</td>\n",
              "      <td>70%</td>\n",
              "      <td>France</td>\n",
              "      <td>3.50</td>\n",
              "      <td>Criollo</td>\n",
              "      <td>Venezuela</td>\n",
              "    </tr>\n",
              "    <tr>\n",
              "      <th>8</th>\n",
              "      <td>A. Morin</td>\n",
              "      <td>Puerto Cabello</td>\n",
              "      <td>1319</td>\n",
              "      <td>2014</td>\n",
              "      <td>70%</td>\n",
              "      <td>France</td>\n",
              "      <td>3.75</td>\n",
              "      <td>Criollo</td>\n",
              "      <td>Venezuela</td>\n",
              "    </tr>\n",
              "    <tr>\n",
              "      <th>9</th>\n",
              "      <td>A. Morin</td>\n",
              "      <td>Pablino</td>\n",
              "      <td>1319</td>\n",
              "      <td>2014</td>\n",
              "      <td>70%</td>\n",
              "      <td>France</td>\n",
              "      <td>4.00</td>\n",
              "      <td></td>\n",
              "      <td>Peru</td>\n",
              "    </tr>\n",
              "    <tr>\n",
              "      <th>10</th>\n",
              "      <td>A. Morin</td>\n",
              "      <td>Panama</td>\n",
              "      <td>1011</td>\n",
              "      <td>2013</td>\n",
              "      <td>70%</td>\n",
              "      <td>France</td>\n",
              "      <td>2.75</td>\n",
              "      <td></td>\n",
              "      <td>Panama</td>\n",
              "    </tr>\n",
              "    <tr>\n",
              "      <th>11</th>\n",
              "      <td>A. Morin</td>\n",
              "      <td>Madagascar</td>\n",
              "      <td>1011</td>\n",
              "      <td>2013</td>\n",
              "      <td>70%</td>\n",
              "      <td>France</td>\n",
              "      <td>3.00</td>\n",
              "      <td>Criollo</td>\n",
              "      <td>Madagascar</td>\n",
              "    </tr>\n",
              "    <tr>\n",
              "      <th>12</th>\n",
              "      <td>A. Morin</td>\n",
              "      <td>Brazil</td>\n",
              "      <td>1011</td>\n",
              "      <td>2013</td>\n",
              "      <td>70%</td>\n",
              "      <td>France</td>\n",
              "      <td>3.25</td>\n",
              "      <td></td>\n",
              "      <td>Brazil</td>\n",
              "    </tr>\n",
              "    <tr>\n",
              "      <th>13</th>\n",
              "      <td>A. Morin</td>\n",
              "      <td>Equateur</td>\n",
              "      <td>1011</td>\n",
              "      <td>2013</td>\n",
              "      <td>70%</td>\n",
              "      <td>France</td>\n",
              "      <td>3.75</td>\n",
              "      <td></td>\n",
              "      <td>Ecuador</td>\n",
              "    </tr>\n",
              "    <tr>\n",
              "      <th>14</th>\n",
              "      <td>A. Morin</td>\n",
              "      <td>Colombie</td>\n",
              "      <td>1015</td>\n",
              "      <td>2013</td>\n",
              "      <td>70%</td>\n",
              "      <td>France</td>\n",
              "      <td>2.75</td>\n",
              "      <td></td>\n",
              "      <td>Colombia</td>\n",
              "    </tr>\n",
              "  </tbody>\n",
              "</table>\n",
              "</div>"
            ],
            "text/plain": [
              "     company  bean.bar.orgin   ref  date  ... location rating  beantype      origin\n",
              "0   A. Morin     Agua Grande  1876  2016  ...   France   3.75              Sao Tome\n",
              "1   A. Morin           Kpime  1676  2015  ...   France   2.75                  Togo\n",
              "2   A. Morin          Atsane  1676  2015  ...   France   3.00                  Togo\n",
              "3   A. Morin           Akata  1680  2015  ...   France   3.50                  Togo\n",
              "4   A. Morin          Quilla  1704  2015  ...   France   3.50                  Peru\n",
              "5   A. Morin        Carenero  1315  2014  ...   France   2.75   Criollo   Venezuela\n",
              "6   A. Morin            Cuba  1315  2014  ...   France   3.50                  Cuba\n",
              "7   A. Morin    Sur del Lago  1315  2014  ...   France   3.50   Criollo   Venezuela\n",
              "8   A. Morin  Puerto Cabello  1319  2014  ...   France   3.75   Criollo   Venezuela\n",
              "9   A. Morin         Pablino  1319  2014  ...   France   4.00                  Peru\n",
              "10  A. Morin          Panama  1011  2013  ...   France   2.75                Panama\n",
              "11  A. Morin      Madagascar  1011  2013  ...   France   3.00   Criollo  Madagascar\n",
              "12  A. Morin          Brazil  1011  2013  ...   France   3.25                Brazil\n",
              "13  A. Morin        Equateur  1011  2013  ...   France   3.75               Ecuador\n",
              "14  A. Morin        Colombie  1015  2013  ...   France   2.75              Colombia\n",
              "\n",
              "[15 rows x 9 columns]"
            ]
          },
          "metadata": {
            "tags": []
          },
          "execution_count": 176
        }
      ]
    },
    {
      "cell_type": "code",
      "metadata": {
        "id": "1sg8pkPkiXVW",
        "colab_type": "code",
        "colab": {}
      },
      "source": [
        ""
      ],
      "execution_count": 176,
      "outputs": []
    },
    {
      "cell_type": "code",
      "metadata": {
        "id": "7i1i9b38lwPY",
        "colab_type": "code",
        "colab": {}
      },
      "source": [
        "import plotly.graph_objects as go\n",
        "import pandas as pd\n",
        "\n",
        "df= pd.read_csv(\"https://raw.githubusercontent.com/Ahadri94/BW1-Chocolate-Project/master/datasets_1919_3310_flavors_of_cacao.csv\")\n",
        "\n",
        "fig = go.Figure(df=go.Scatter(x=df['date'],\n",
        "                                y=df['rating'],\n",
        "                                mode='markers',\n",
        "                                marker_color=df['rating'],\n",
        "                                text=df['location'])) # hover text goes here\n",
        "\n",
        "fig.update_layout(title='Population of USA States')\n",
        "fig.show()"
      ],
      "execution_count": null,
      "outputs": []
    }
  ]
}